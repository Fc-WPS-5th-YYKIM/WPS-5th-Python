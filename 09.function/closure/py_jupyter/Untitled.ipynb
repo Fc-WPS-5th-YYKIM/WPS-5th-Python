{
 "cells": [
  {
   "cell_type": "code",
   "execution_count": 12,
   "metadata": {},
   "outputs": [
    {
     "name": "stdout",
     "output_type": "stream",
     "text": [
      "53\n",
      "56\n",
      "59\n",
      "53\n",
      "56\n"
     ]
    }
   ],
   "source": [
    "level = 0\n",
    "def outer():\n",
    "    level = 50\n",
    "    \n",
    "    def inner():\n",
    "        nonlocal level\n",
    "        level += 3\n",
    "        print(level)\n",
    "    \n",
    "    return inner\n",
    "\n",
    "f = outer()\n",
    "f()\n",
    "f()\n",
    "f()\n",
    "\n",
    "f2 = outer()\n",
    "f2()\n",
    "f2()"
   ]
  },
  {
   "cell_type": "code",
   "execution_count": 26,
   "metadata": {},
   "outputs": [
    {
     "name": "stdout",
     "output_type": "stream",
     "text": [
      "args : (3,)\n",
      "kwargs : {}\n",
      "9\n"
     ]
    }
   ],
   "source": [
    "# 데코레이터 미사용\n",
    "\n",
    "def multi(n):\n",
    "    return n * n\n",
    "    \n",
    "def print_debug(f):\n",
    "    def inner_f(*args, **kwargs):\n",
    "        print('args :', args)\n",
    "        print('kwargs :', kwargs)\n",
    "        result = f(*args, **kwargs)\n",
    "        return result\n",
    "    return inner_f\n",
    "\n",
    "print_debug_decorated_multi = print_debug(multi)\n",
    "result = print_debug_decorated_multi(3)\n",
    "print(result)"
   ]
  },
  {
   "cell_type": "code",
   "execution_count": 27,
   "metadata": {},
   "outputs": [
    {
     "name": "stdout",
     "output_type": "stream",
     "text": [
      "args : (3,)\n",
      "kwargs : {}\n",
      "9\n"
     ]
    }
   ],
   "source": [
    "# 데코레이터 사용\n",
    "# 예약어는 @\n",
    "# 함수 위에 @데코레이터함수명 을 붙여 주면\n",
    "# 해당 함수를 데코레이터 함수에 인자로 전달 한 데코레이터 함수와 실행 된다.\n",
    "\n",
    "@print_debug\n",
    "def multi(n):\n",
    "    return n * n\n",
    "    \n",
    "def print_debug(f):\n",
    "    def inner_f(*args, **kwargs):\n",
    "        print('args :', args)\n",
    "        print('kwargs :', kwargs)\n",
    "        result = f(*args, **kwargs)\n",
    "        return result\n",
    "    return inner_f\n",
    "\n",
    "result = multi(3)\n",
    "print(result)"
   ]
  },
  {
   "cell_type": "code",
   "execution_count": 31,
   "metadata": {},
   "outputs": [
    {
     "name": "stdout",
     "output_type": "stream",
     "text": [
      "18\n"
     ]
    }
   ],
   "source": [
    "\n",
    "def double(f):\n",
    "    def inner_f(*args, **kwargs):\n",
    "        result = f(*args, **kwargs)\n",
    "        return result * 2\n",
    "    return inner_f\n",
    "\n",
    "\n",
    "@double\n",
    "def multi(n):\n",
    "    return n * n\n",
    "\n",
    "\n",
    "def print_debug(f):\n",
    "    def inner_f(*args, **kwargs):\n",
    "        print('args :', args)\n",
    "        print('kwargs :', kwargs)\n",
    "        result = f(*args, **kwargs)\n",
    "        return result\n",
    "    return inner_f\n",
    "\n",
    "result = multi(3)\n",
    "print(result)"
   ]
  },
  {
   "cell_type": "code",
   "execution_count": 34,
   "metadata": {},
   "outputs": [
    {
     "name": "stdout",
     "output_type": "stream",
     "text": [
      "<generator object range_gen at 0x10ebd0d00>\n",
      "<class 'generator'>\n"
     ]
    }
   ],
   "source": [
    "def range_gen(num):\n",
    "    i = 0\n",
    "    while i < num:\n",
    "        yield i\n",
    "        i += 1\n",
    "\n",
    "gen = range_gen(10)\n",
    "print(gen)\n",
    "print(type(gen))"
   ]
  },
  {
   "cell_type": "code",
   "execution_count": 74,
   "metadata": {},
   "outputs": [
    {
     "name": "stdout",
     "output_type": "stream",
     "text": [
      "apple\n",
      "----------------------\n",
      "apple\n",
      "Help on function test_1 in module __main__:\n",
      "\n",
      "test_1(t)\n",
      "    test\n",
      "    test\n",
      "\n"
     ]
    }
   ],
   "source": [
    "fruit_color_dict = {\n",
    "    'red':'apple',\n",
    "    'yellow':'banana',\n",
    "    'green':'melon'\n",
    "}\n",
    "\n",
    "def what_fruit_by_dict (color, dict_):\n",
    "    return dict_.get(color, 'I don\\'t know')\n",
    "\n",
    "print(what_fruit_by_dict ( 'red' , fruit_color_dict))\n",
    "\n",
    "print('----------------------')\n",
    "\n",
    "def test_1 ( t ):\n",
    "    '''test\n",
    "    test'''\n",
    "    if t == 'red':\n",
    "        return 'apple'\n",
    "    elif t == 'yellow':\n",
    "        return 'banana'\n",
    "    elif t == 'green':\n",
    "        return 'melon'\n",
    "    else:\n",
    "        return 'I don\\'t know'\n",
    "\n",
    "result = test_1('red')\n",
    "print(result)\n",
    "help(test_1)"
   ]
  },
  {
   "cell_type": "code",
   "execution_count": 51,
   "metadata": {},
   "outputs": [
    {
     "data": {
      "text/plain": [
       "20"
      ]
     },
     "execution_count": 51,
     "metadata": {},
     "output_type": "execute_result"
    }
   ],
   "source": [
    "def test_3 (*args):\n",
    "    if len(args) == 1:\n",
    "        return args[0] ** 2\n",
    "    if len(args) == 2:\n",
    "        return args[0] * args[1]\n",
    "\n",
    "test_3(4,5)"
   ]
  },
  {
   "cell_type": "code",
   "execution_count": 52,
   "metadata": {},
   "outputs": [
    {
     "data": {
      "text/plain": [
       "(8, 2)"
      ]
     },
     "execution_count": 52,
     "metadata": {},
     "output_type": "execute_result"
    }
   ],
   "source": [
    "def test_4 (x, y):\n",
    "    result1 = x + y\n",
    "    result2 = x - y\n",
    "    return (result1, result2)\n",
    "\n",
    "test_4(5,3)"
   ]
  },
  {
   "cell_type": "code",
   "execution_count": 76,
   "metadata": {},
   "outputs": [
    {
     "name": "stdout",
     "output_type": "stream",
     "text": [
      "2\n"
     ]
    },
    {
     "data": {
      "text/plain": [
       "2"
      ]
     },
     "execution_count": 76,
     "metadata": {},
     "output_type": "execute_result"
    }
   ],
   "source": [
    "def test_5 (*args):\n",
    "    result = len(args)\n",
    "    print(result)\n",
    "    return(result)\n",
    "\n",
    "test_5('kim','31')"
   ]
  },
  {
   "cell_type": "code",
   "execution_count": 81,
   "metadata": {},
   "outputs": [
    {
     "name": "stdout",
     "output_type": "stream",
     "text": [
      "2 x 1 = 2\n",
      "2 x 2 = 4\n",
      "2 x 3 = 6\n",
      "2 x 4 = 8\n",
      "2 x 5 = 10\n",
      "2 x 6 = 12\n",
      "2 x 7 = 14\n",
      "2 x 8 = 16\n",
      "2 x 9 = 18\n",
      "3 x 1 = 3\n",
      "3 x 2 = 6\n",
      "3 x 3 = 9\n",
      "3 x 4 = 12\n",
      "3 x 5 = 15\n",
      "3 x 6 = 18\n",
      "3 x 7 = 21\n",
      "3 x 8 = 24\n",
      "3 x 9 = 27\n",
      "4 x 1 = 4\n",
      "4 x 2 = 8\n",
      "4 x 3 = 12\n",
      "4 x 4 = 16\n",
      "4 x 5 = 20\n",
      "4 x 6 = 24\n",
      "4 x 7 = 28\n",
      "4 x 8 = 32\n",
      "4 x 9 = 36\n",
      "5 x 1 = 5\n",
      "5 x 2 = 10\n",
      "5 x 3 = 15\n",
      "5 x 4 = 20\n",
      "5 x 5 = 25\n",
      "5 x 6 = 30\n",
      "5 x 7 = 35\n",
      "5 x 8 = 40\n",
      "5 x 9 = 45\n",
      "6 x 1 = 6\n",
      "6 x 2 = 12\n",
      "6 x 3 = 18\n",
      "6 x 4 = 24\n",
      "6 x 5 = 30\n",
      "6 x 6 = 36\n",
      "6 x 7 = 42\n",
      "6 x 8 = 48\n",
      "6 x 9 = 54\n",
      "7 x 1 = 7\n",
      "7 x 2 = 14\n",
      "7 x 3 = 21\n",
      "7 x 4 = 28\n",
      "7 x 5 = 35\n",
      "7 x 6 = 42\n",
      "7 x 7 = 49\n",
      "7 x 8 = 56\n",
      "7 x 9 = 63\n",
      "8 x 1 = 8\n",
      "8 x 2 = 16\n",
      "8 x 3 = 24\n",
      "8 x 4 = 32\n",
      "8 x 5 = 40\n",
      "8 x 6 = 48\n",
      "8 x 7 = 56\n",
      "8 x 8 = 64\n",
      "8 x 9 = 72\n",
      "9 x 1 = 9\n",
      "9 x 2 = 18\n",
      "9 x 3 = 27\n",
      "9 x 4 = 36\n",
      "9 x 5 = 45\n",
      "9 x 6 = 54\n",
      "9 x 7 = 63\n",
      "9 x 8 = 72\n",
      "9 x 9 = 81\n"
     ]
    }
   ],
   "source": [
    "\n",
    "l1 = [ '{} x {} = {}'.format(x, y, x*y) for x in range(2, 10) for y in range(1,10) ]\n",
    "\n",
    "l2 = [ ( lambda x, y : '{} x {} = {}'.format(x, y, x*y) ) (x, y) for x in range(2, 10) for y in range(1,10) ]\n",
    "\n",
    "for item in l2:\n",
    "    print(item)"
   ]
  },
  {
   "cell_type": "code",
   "execution_count": null,
   "metadata": {
    "collapsed": true
   },
   "outputs": [],
   "source": []
  },
  {
   "cell_type": "code",
   "execution_count": null,
   "metadata": {
    "collapsed": true
   },
   "outputs": [],
   "source": []
  },
  {
   "cell_type": "code",
   "execution_count": null,
   "metadata": {
    "collapsed": true
   },
   "outputs": [],
   "source": []
  },
  {
   "cell_type": "code",
   "execution_count": null,
   "metadata": {
    "collapsed": true
   },
   "outputs": [],
   "source": []
  },
  {
   "cell_type": "code",
   "execution_count": null,
   "metadata": {
    "collapsed": true
   },
   "outputs": [],
   "source": []
  },
  {
   "cell_type": "code",
   "execution_count": null,
   "metadata": {
    "collapsed": true
   },
   "outputs": [],
   "source": []
  },
  {
   "cell_type": "code",
   "execution_count": null,
   "metadata": {
    "collapsed": true
   },
   "outputs": [],
   "source": []
  },
  {
   "cell_type": "code",
   "execution_count": 96,
   "metadata": {},
   "outputs": [
    {
     "name": "stdout",
     "output_type": "stream",
     "text": [
      "5\n"
     ]
    }
   ],
   "source": [
    "def sequential_search(source, key):\n",
    "    index = 0\n",
    "    source_len = len(source)\n",
    "    while index < source_len:\n",
    "        if key == source[index]:\n",
    "            return index\n",
    "        index += 1\n",
    "    return -1\n",
    "\n",
    "print(sequential_search('fast campus','c'))"
   ]
  },
  {
   "cell_type": "code",
   "execution_count": null,
   "metadata": {
    "collapsed": true
   },
   "outputs": [],
   "source": []
  }
 ],
 "metadata": {
  "kernelspec": {
   "display_name": "Python 3",
   "language": "python",
   "name": "python3"
  },
  "language_info": {
   "codemirror_mode": {
    "name": "ipython",
    "version": 3
   },
   "file_extension": ".py",
   "mimetype": "text/x-python",
   "name": "python",
   "nbconvert_exporter": "python",
   "pygments_lexer": "ipython3",
   "version": "3.5.3"
  }
 },
 "nbformat": 4,
 "nbformat_minor": 2
}
