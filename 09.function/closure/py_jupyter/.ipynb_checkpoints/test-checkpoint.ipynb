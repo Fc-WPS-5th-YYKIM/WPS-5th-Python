{
 "cells": [
  {
   "cell_type": "code",
   "execution_count": 33,
   "metadata": {},
   "outputs": [
    {
     "name": "stdout",
     "output_type": "stream",
     "text": [
      "result :  [1, 2, 3, 5, 7, 9]\n"
     ]
    }
   ],
   "source": [
    "li = [5,1,3,7,2,9]\n",
    "\n",
    "for x in range( len(li) - 1 ):\n",
    "    for y in range( x + 1, len(li) ):\n",
    "        if li[x] > li[y]:\n",
    "            temp = li[x]\n",
    "            li[x]= li[y]\n",
    "            li[y] = temp\n",
    "        \n",
    "print('result : ', li)"
   ]
  },
  {
   "cell_type": "code",
   "execution_count": 40,
   "metadata": {},
   "outputs": [
    {
     "ename": "NameError",
     "evalue": "name 'random' is not defined",
     "output_type": "error",
     "traceback": [
      "\u001b[0;31m---------------------------------------------------------------------------\u001b[0m",
      "\u001b[0;31mNameError\u001b[0m                                 Traceback (most recent call last)",
      "\u001b[0;32m<ipython-input-40-334d108e0632>\u001b[0m in \u001b[0;36m<module>\u001b[0;34m()\u001b[0m\n\u001b[1;32m      2\u001b[0m \u001b[0;34m\u001b[0m\u001b[0m\n\u001b[1;32m      3\u001b[0m \u001b[0msample_list\u001b[0m \u001b[0;34m=\u001b[0m \u001b[0;34m[\u001b[0m\u001b[0mx\u001b[0m \u001b[0;32mfor\u001b[0m \u001b[0mx\u001b[0m \u001b[0;32min\u001b[0m \u001b[0mrange\u001b[0m\u001b[0;34m(\u001b[0m\u001b[0;36m1\u001b[0m\u001b[0;34m,\u001b[0m \u001b[0;36m10\u001b[0m\u001b[0;34m)\u001b[0m\u001b[0;34m]\u001b[0m\u001b[0;34m\u001b[0m\u001b[0m\n\u001b[0;32m----> 4\u001b[0;31m \u001b[0mrandom\u001b[0m\u001b[0;34m.\u001b[0m\u001b[0mshuffle\u001b[0m\u001b[0;34m(\u001b[0m\u001b[0msample_list\u001b[0m\u001b[0;34m)\u001b[0m\u001b[0;34m\u001b[0m\u001b[0m\n\u001b[0m\u001b[1;32m      5\u001b[0m \u001b[0;34m\u001b[0m\u001b[0m\n\u001b[1;32m      6\u001b[0m \u001b[0;32mdef\u001b[0m \u001b[0mselection_sort\u001b[0m\u001b[0;34m(\u001b[0m\u001b[0mori_list\u001b[0m\u001b[0;34m)\u001b[0m\u001b[0;34m:\u001b[0m\u001b[0;34m\u001b[0m\u001b[0m\n",
      "\u001b[0;31mNameError\u001b[0m: name 'random' is not defined"
     ]
    }
   ],
   "source": [
    "sample_list = [ 5, 1, 3, 7, 2, 9]\n",
    "\n",
    "def selection_sort(ori_list):\n",
    "    ori_len = len(ori_list)\n",
    "    \n",
    "    for i in range(ori_len - 1):\n",
    "        cur_min_index = i\n",
    "        \n",
    "        for j in range(i + 1, ori_len):\n",
    "            if ori_list[cur_min_index] > ori_list[j]:\n",
    "                cur_min_index = j\n",
    "        \n",
    "        #temp = ori_list[i]\n",
    "        #ori_list[i] = ori_list[cur_min_index]\n",
    "        #ori_list[cur_min_index] = temp\n",
    "        \n",
    "        ori_list[i], ori_list[cur_min_index] = ori_list[cur_min_index], ori_list[i]\n",
    "        \n",
    "selection_sort(sample_list)\n",
    "print(sample_list)"
   ]
  }
 ],
 "metadata": {
  "kernelspec": {
   "display_name": "Python 3",
   "language": "python",
   "name": "python3"
  },
  "language_info": {
   "codemirror_mode": {
    "name": "ipython",
    "version": 3
   },
   "file_extension": ".py",
   "mimetype": "text/x-python",
   "name": "python",
   "nbconvert_exporter": "python",
   "pygments_lexer": "ipython3",
   "version": "3.5.3"
  }
 },
 "nbformat": 4,
 "nbformat_minor": 2
}
