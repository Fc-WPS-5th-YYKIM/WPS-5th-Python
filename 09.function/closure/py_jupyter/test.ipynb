{
 "cells": [
  {
   "cell_type": "code",
   "execution_count": 33,
   "metadata": {},
   "outputs": [
    {
     "name": "stdout",
     "output_type": "stream",
     "text": [
      "result :  [1, 2, 3, 5, 7, 9]\n"
     ]
    }
   ],
   "source": [
    "li = [5,1,3,7,2,9]\n",
    "\n",
    "for x in range( len(li) - 1 ):\n",
    "    for y in range( x + 1, len(li) ):\n",
    "        if li[x] > li[y]:\n",
    "            temp = li[x]\n",
    "            li[x]= li[y]\n",
    "            li[y] = temp\n",
    "        \n",
    "print('result : ', li)"
   ]
  },
  {
   "cell_type": "code",
   "execution_count": 41,
   "metadata": {},
   "outputs": [
    {
     "name": "stdout",
     "output_type": "stream",
     "text": [
      "[1, 2, 3, 5, 7, 9]\n"
     ]
    }
   ],
   "source": [
    "sample_list = [ 5, 1, 3, 7, 2, 9]\n",
    "\n",
    "def selection_sort(ori_list):\n",
    "    ori_len = len(ori_list)\n",
    "    \n",
    "    for i in range(ori_len - 1):\n",
    "        cur_min_index = i\n",
    "        \n",
    "        for j in range(i + 1, ori_len):\n",
    "            if ori_list[cur_min_index] > ori_list[j]:\n",
    "                cur_min_index = j\n",
    "        \n",
    "        #temp = ori_list[i]\n",
    "        #ori_list[i] = ori_list[cur_min_index]\n",
    "        #ori_list[cur_min_index] = temp\n",
    "        \n",
    "        ori_list[i], ori_list[cur_min_index] = ori_list[cur_min_index], ori_list[i]\n",
    "        \n",
    "selection_sort(sample_list)\n",
    "print(sample_list)"
   ]
  },
  {
   "cell_type": "code",
   "execution_count": 46,
   "metadata": {},
   "outputs": [
    {
     "data": {
      "text/plain": [
       "[3, 2, 7, 8, 6, 9, 1, 4, 5]"
      ]
     },
     "execution_count": 46,
     "metadata": {},
     "output_type": "execute_result"
    }
   ],
   "source": [
    "import random\n",
    "test = [ x for x in range(1, 10)]\n",
    "random.shuffle(test)\n",
    "test"
   ]
  }
 ],
 "metadata": {
  "kernelspec": {
   "display_name": "Python 3",
   "language": "python",
   "name": "python3"
  },
  "language_info": {
   "codemirror_mode": {
    "name": "ipython",
    "version": 3
   },
   "file_extension": ".py",
   "mimetype": "text/x-python",
   "name": "python",
   "nbconvert_exporter": "python",
   "pygments_lexer": "ipython3",
   "version": "3.5.3"
  }
 },
 "nbformat": 4,
 "nbformat_minor": 2
}
