{
 "cells": [
  {
   "cell_type": "code",
   "execution_count": 3,
   "metadata": {},
   "outputs": [
    {
     "name": "stdout",
     "output_type": "stream",
     "text": [
      "champion variable init, id:  4451667336\n",
      "champion variable edit in, id:  4451666832\n",
      "after change_global_champion : Ahri\n",
      "champion variable after edit, id:  4451667336\n",
      "print global champion : Lux\n"
     ]
    }
   ],
   "source": [
    "champion = 'Lux'\n",
    "print('champion variable init, id: ', id(champion))\n",
    "\n",
    "def change_global_champion():\n",
    "    champion = 'Ahri'\n",
    "    print('champion variable edit in, id: ', id(champion))\n",
    "    print('after change_global_champion : {}'.format(champion))\n",
    "\n",
    "change_global_champion()\n",
    "print('champion variable after edit, id: ', id(champion))\n",
    "print('print global champion : {}'.format(champion))"
   ]
  },
  {
   "cell_type": "code",
   "execution_count": 4,
   "metadata": {},
   "outputs": [
    {
     "name": "stdout",
     "output_type": "stream",
     "text": [
      "champion variable init, id:  4451667336\n",
      "champion variable edit in, id:  4451666832\n",
      "after change_global_champion : Ahri\n",
      "champion variable after edit, id:  4451666832\n",
      "print global champion : Ahri\n"
     ]
    }
   ],
   "source": [
    "champion = 'Lux'\n",
    "print('champion variable init, id: ', id(champion))\n",
    "\n",
    "def change_global_champion():\n",
    "    global champion\n",
    "    champion = 'Ahri'\n",
    "    print('champion variable edit in, id: ', id(champion))\n",
    "    print('after change_global_champion : {}'.format(champion))\n",
    "\n",
    "change_global_champion()\n",
    "print('champion variable after edit, id: ', id(champion))\n",
    "print('print global champion : {}'.format(champion))"
   ]
  },
  {
   "cell_type": "code",
   "execution_count": 7,
   "metadata": {
    "scrolled": true
   },
   "outputs": [
    {
     "name": "stdout",
     "output_type": "stream",
     "text": [
      "local1 locals() : {'champion': 'Ahri'}\n",
      "local2 locals() : {'champion': 'Ezreal'}\n"
     ]
    }
   ],
   "source": [
    "champion = 'Lux'\n",
    "\n",
    "def local1():\n",
    "    champion = 'Ahri'\n",
    "    print('local1 locals() : {}'.format(locals()))\n",
    "\n",
    "    def local2():\n",
    "        champion = 'Ezreal'\n",
    "        print('local2 locals() : {}'.format(locals()))\n",
    "    local2()\n",
    "\n",
    "local1()"
   ]
  },
  {
   "cell_type": "code",
   "execution_count": 19,
   "metadata": {},
   "outputs": [
    {
     "name": "stdout",
     "output_type": "stream",
     "text": [
      "local1 locals() : {'champion': 'Ahri'}\n",
      "local2 locals() : {'champion': 'Ahri'}\n",
      "local2 locals() : {'champion': 'Ezreal'}\n",
      "local2 locals() : Ezreal\n"
     ]
    }
   ],
   "source": [
    "champion = 'Lux'\n",
    "\n",
    "def local1():\n",
    "    champion = 'Ahri'\n",
    "    print('local1 locals() : {}'.format(locals()))\n",
    "    \n",
    "    def local2():\n",
    "        nonlocal champion\n",
    "        print('local2 locals() : {}'.format(locals()))\n",
    "        champion = 'Ezreal'\n",
    "        print('local2 locals() : {}'.format(locals()))\n",
    "    local2()\n",
    "    print('local2 locals() : {}'.format(locals().get('champion', 'No Key')))\n",
    "local1()"
   ]
  },
  {
   "cell_type": "code",
   "execution_count": 27,
   "metadata": {},
   "outputs": [
    {
     "name": "stdout",
     "output_type": "stream",
     "text": [
      "130\n",
      "100\n"
     ]
    }
   ],
   "source": [
    "global_level = 100\n",
    "def level_add ( value ) :\n",
    "    value += 30\n",
    "    print(value)\n",
    "    \n",
    "level_add(global_level)\n",
    "print(global_level)"
   ]
  },
  {
   "cell_type": "code",
   "execution_count": 22,
   "metadata": {},
   "outputs": [
    {
     "name": "stdout",
     "output_type": "stream",
     "text": [
      "130\n",
      "130\n"
     ]
    }
   ],
   "source": [
    "global_level = 100\n",
    "def level_add ():\n",
    "    global global_level\n",
    "    global_level += 30\n",
    "    print(global_level)\n",
    "    \n",
    "level_add()\n",
    "print(global_level)"
   ]
  },
  {
   "cell_type": "code",
   "execution_count": 29,
   "metadata": {},
   "outputs": [
    {
     "name": "stdout",
     "output_type": "stream",
     "text": [
      "[100, 30]\n",
      "[100, 30]\n"
     ]
    }
   ],
   "source": [
    "global_level = [100]\n",
    "def level_add ( value ) :\n",
    "    value.append(30)\n",
    "    print(value)\n",
    "    \n",
    "level_add(global_level)\n",
    "print(global_level)"
   ]
  },
  {
   "cell_type": "code",
   "execution_count": null,
   "metadata": {
    "collapsed": true
   },
   "outputs": [],
   "source": []
  }
 ],
 "metadata": {
  "kernelspec": {
   "display_name": "Python 3",
   "language": "python",
   "name": "python3"
  },
  "language_info": {
   "codemirror_mode": {
    "name": "ipython",
    "version": 3
   },
   "file_extension": ".py",
   "mimetype": "text/x-python",
   "name": "python",
   "nbconvert_exporter": "python",
   "pygments_lexer": "ipython3",
   "version": "3.5.3"
  }
 },
 "nbformat": 4,
 "nbformat_minor": 2
}
